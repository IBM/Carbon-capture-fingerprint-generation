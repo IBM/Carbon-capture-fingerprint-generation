{
 "cells": [
  {
   "cell_type": "markdown",
   "id": "e20ee300",
   "metadata": {},
   "source": [
    "# Example useage of ccs fp\n",
    "This notebook functions as an example and documentation\n",
    "\n",
    "Copyright IBM Corporation 2022.\n",
    "\n",
    "SPDX-License-Identifier: MIT"
   ]
  },
  {
   "cell_type": "code",
   "execution_count": null,
   "id": "ef4980ff",
   "metadata": {},
   "outputs": [],
   "source": [
    "# Copyright IBM Corporation 2022.\n",
    "# SPDX-License-Identifier: EPL-2.0\n",
    "\n",
    "import ccsfp as cfp\n",
    "import ccsfp.informatics as inf\n",
    "import ccsfp.informatics.molecules_and_images as mai\n",
    "import ccsfp.informatics.chemical_space_map as csm\n",
    "import ccsfp.informatics.generation as gen\n",
    "import ccsfp.informatics.finger_prints as fp\n",
    "\n",
    "import rdkit\n",
    "from rdkit import Chem\n",
    "import numpy as np\n",
    "import pandas as pd\n",
    "import logging\n",
    "logging.basicConfig(format='%(levelname)-9s : %(message)s')\n",
    "log=logging.getLogger()\n",
    "log.setLevel(logging.INFO)"
   ]
  },
  {
   "cell_type": "markdown",
   "id": "c08dc053",
   "metadata": {},
   "source": [
    "To being we will create some random seed molecules. These molecules are given in smiles form below. We add to this other string identifiers InChI and InChIKeys. "
   ]
  },
  {
   "cell_type": "code",
   "execution_count": null,
   "id": "369f57cc",
   "metadata": {},
   "outputs": [],
   "source": [
    "smiles = [\"NCCO\", \"N1CCNCC1\", \"CCCN\", \"CC(O)CN\", \"c1ccncc1\", \"CC(C=O)CC(O)CC1CCCCC1\", \"CC(C=O)CC(CCO)CC(C)CN(CCN)CNC\"]\n",
    "inchi = [inf.smiles.smiles_to_inchi(s) for s in smiles]\n",
    "inchikey= [Chem.InchiToInchiKey(inch) for inch in inchi]"
   ]
  },
  {
   "cell_type": "markdown",
   "id": "476cdc70",
   "metadata": {},
   "source": [
    "Next we create RDKit molecule objects from the smiles and give examples of how we can vary the output writh a few commonly used flags like adding hydrogen and generating 3D structures."
   ]
  },
  {
   "cell_type": "code",
   "execution_count": null,
   "id": "5b0177c5",
   "metadata": {},
   "outputs": [],
   "source": [
    "mols = [mai.smiles_to_molecule(s, addH=True, threed=False) for s in smiles]\n",
    "mols_no_h = [mai.smiles_to_molecule(s, addH=False, threed=False) for s in smiles]\n",
    "mols3d = [mai.smiles_to_molecule(s, addH=True, threed=True) for s in smiles]"
   ]
  },
  {
   "cell_type": "markdown",
   "id": "6a8ea3ec",
   "metadata": {},
   "source": [
    "As an example we also have a property number of heavy atoms and label the molecules by numbers."
   ]
  },
  {
   "cell_type": "code",
   "execution_count": null,
   "id": "e3c7e376",
   "metadata": {},
   "outputs": [],
   "source": [
    "num_heavy_atoms = [Chem.rdMolDescriptors.CalcNumHeavyAtoms(mol) for mol in mols]\n",
    "labels = [Chem.rdMolDescriptors.CalcMolFormula(mol) for mol in mols]"
   ]
  },
  {
   "cell_type": "markdown",
   "id": "4d6b4225",
   "metadata": {},
   "source": [
    "To gather all of this together we build a pandas dataframe"
   ]
  },
  {
   "cell_type": "code",
   "execution_count": null,
   "id": "08303c7f",
   "metadata": {},
   "outputs": [],
   "source": [
    "df = pd.DataFrame(data=np.array([smiles, inchi, inchikey, num_heavy_atoms, labels]).T, \n",
    "                  columns=[\"smiles\", \"inchi\", \"inchikey\", \"n_heavy_atoms\", \"names\"])"
   ]
  },
  {
   "cell_type": "markdown",
   "id": "712a45d6",
   "metadata": {},
   "source": [
    "We can now visualize the molecules to see what we have to start from. We do this with the 3D structure s and the 2D so we can visually see the difference."
   ]
  },
  {
   "cell_type": "code",
   "execution_count": null,
   "id": "bcd05b84",
   "metadata": {
    "scrolled": true
   },
   "outputs": [],
   "source": [
    "for m3d, m in zip(mols3d, mols):\n",
    "    log.info(\"{} {}\".format(display(m3d), display(m)))"
   ]
  },
  {
   "cell_type": "markdown",
   "id": "2664b263",
   "metadata": {},
   "source": [
    "## Generating new molecules\n",
    "In this section we use of seed moelcules to generate new molecules using a non-exhaustive core and side chain addition. This process is contain in one function call. The process is deterministic but can different in the order in which structures are generated. The process can be altered in terms of number of structures generated if overwriting is False extra random is false and generation number is changed.\n",
    "\n",
    "The method breaks down a list of smiles strings into cores (using Murko hashes) and stores them in a csv file. The method proceeds to break down another list of smiles into side chains (using regioisomer hashes) and stores them in a csv file. In each generation stage each core is chosen in order and a pseudo-random side chaiin is chosen. The two are connected either by the first attachement point on the core (noted by a `*`) or the first atom in the scaffold. If new attachment points are added to teh structure by a side chain a recursive call is made until the attachment points are filled. The algorithim is not fool proof has been shown to be effective.\n",
    "\n",
    "In the example we give the same set of smiles for core and sidechain setting, these can be different."
   ]
  },
  {
   "cell_type": "code",
   "execution_count": null,
   "id": "7601b2a6",
   "metadata": {
    "scrolled": true
   },
   "outputs": [],
   "source": [
    "gensmiles = gen.limited_enumeration(smiles, \n",
    "                                    smiles, \n",
    "                                    generations=20, \n",
    "                                    extra_random=True, \n",
    "                                    overwrite=True, \n",
    "                                    return_all=False\n",
    "                                   )"
   ]
  },
  {
   "cell_type": "markdown",
   "id": "c25d421b",
   "metadata": {},
   "source": [
    "The smiles that have been generated are"
   ]
  },
  {
   "cell_type": "code",
   "execution_count": null,
   "id": "9bf7e06f",
   "metadata": {},
   "outputs": [],
   "source": [
    "gensmiles"
   ]
  },
  {
   "cell_type": "markdown",
   "id": "bb11d25a",
   "metadata": {},
   "source": [
    "Now we can visualize these as well"
   ]
  },
  {
   "cell_type": "code",
   "execution_count": null,
   "id": "4ef1c116",
   "metadata": {},
   "outputs": [],
   "source": [
    "log.info(\"\\nMade {} smiles\\n\".format(len(gensmiles)))\n",
    "\n",
    "for gs in gensmiles:\n",
    "    log.info(gs)\n",
    "    log.info(display(mai.smiles_to_molecule(gs, threed=False)));"
   ]
  },
  {
   "cell_type": "markdown",
   "id": "ebe14002",
   "metadata": {},
   "source": [
    "We can combine these with our input smiles and save them for later"
   ]
  },
  {
   "cell_type": "code",
   "execution_count": null,
   "id": "25d8cf19",
   "metadata": {},
   "outputs": [],
   "source": [
    "geninchi = [inf.smiles.smiles_to_inchi(s) for s in gensmiles]\n",
    "geninchikey = [Chem.InchiToInchiKey(inch) for inch in geninchi]\n",
    "gennum_heavy_atoms = [Chem.rdMolDescriptors.CalcNumHeavyAtoms(mai.smiles_to_molecule(s)) for s in gensmiles]\n",
    "genlabels = [Chem.rdMolDescriptors.CalcMolFormula(mai.smiles_to_molecule(s)) for s in gensmiles]\n",
    "\n",
    "gen_df = pd.DataFrame(np.array([gensmiles, geninchi, geninchikey, gennum_heavy_atoms, genlabels]).T,\n",
    "                      columns=[\"smiles\", \"inchi\", \"inchikey\", \"n_heavy_atoms\", \"names\"])\n",
    "df = pd.concat([df, gen_df])\n",
    "df.reset_index(inplace=True, drop=True)"
   ]
  },
  {
   "cell_type": "code",
   "execution_count": null,
   "id": "c3aa8c85",
   "metadata": {},
   "outputs": [],
   "source": [
    "df"
   ]
  },
  {
   "cell_type": "code",
   "execution_count": null,
   "id": "96f89b9d",
   "metadata": {},
   "outputs": [],
   "source": [
    "df.to_csv(\"molecules.csv\", index=False)"
   ]
  },
  {
   "cell_type": "markdown",
   "id": "ed418fd3",
   "metadata": {},
   "source": [
    "## CCS fingerprint generation\n",
    "In this section we show to generate the CCS fingerprints from molecule string representations."
   ]
  },
  {
   "cell_type": "markdown",
   "id": "07e0654b",
   "metadata": {},
   "source": [
    "First lets load our data cleanly"
   ]
  },
  {
   "cell_type": "code",
   "execution_count": null,
   "id": "79db4dcd",
   "metadata": {},
   "outputs": [],
   "source": [
    "df = pd.read_csv(\"molecules.csv\")"
   ]
  },
  {
   "cell_type": "markdown",
   "id": "b6a11563",
   "metadata": {},
   "source": [
    "The ccs fingerprint is generated using the class `ccus_fps`. This class can provide an explanation of the fingerprint to help with interpretation."
   ]
  },
  {
   "cell_type": "code",
   "execution_count": null,
   "id": "35345f04",
   "metadata": {},
   "outputs": [],
   "source": [
    "ccus_fp = fp.ccus_fps()\n",
    "ccs_df = ccus_fp.get_fp_information()"
   ]
  },
  {
   "cell_type": "markdown",
   "id": "8d2e7710",
   "metadata": {},
   "source": [
    "Now we can generate our fingerprints from smiles or inchi in one command. The thresh is the threshold needed before the fingerprint runs in parallel."
   ]
  },
  {
   "cell_type": "code",
   "execution_count": null,
   "id": "d639f8a4",
   "metadata": {},
   "outputs": [],
   "source": [
    "fps_smi, df_fps_smi, smarts_smi = fp.ccs_fp(df[\"smiles\"].to_list(), \n",
    "                                            thresh=1000)\n",
    "df_fps_smi"
   ]
  },
  {
   "cell_type": "code",
   "execution_count": null,
   "id": "5ae6d62e",
   "metadata": {},
   "outputs": [],
   "source": [
    "fps_inchi, df_fps_inchi, smarts_inchi = fp.ccs_fp(df[\"inchi\"].to_list(), \n",
    "                                                  thresh=1000)\n",
    "df_fps_inchi"
   ]
  },
  {
   "cell_type": "code",
   "execution_count": null,
   "id": "cddad74b",
   "metadata": {},
   "outputs": [],
   "source": [
    "try:\n",
    "    pd.testing.assert_frame_equal(df_fps_smi, df_fps_inchi)\n",
    "    log.info(\"Equal\")\n",
    "except AssertionError as aerr:\n",
    "    log.info(\"Not Equal!\")\n"
   ]
  },
  {
   "cell_type": "markdown",
   "id": "a5f9b685",
   "metadata": {},
   "source": [
    "You can also define your own smarts substructure patterns to search for and hence your own fingerprint."
   ]
  },
  {
   "cell_type": "code",
   "execution_count": null,
   "id": "a1382874",
   "metadata": {},
   "outputs": [],
   "source": [
    "fps, df_fps, smarts = fp.ccs_fp(df[\"smiles\"].to_list(),\n",
    "                                            version=1, \n",
    "                                            substructures=[\"[CX3][C]\", \"[c,n]1[c,n][c,n][c,n][c,n][c,n]1\"],\n",
    "                                            substructure_names=[\"a\", \"b\"])\n",
    "df_fps"
   ]
  },
  {
   "cell_type": "markdown",
   "id": "c3b132ff",
   "metadata": {},
   "source": [
    "## Chemical space plotting\n",
    "In this section we show how to produce a chemical space plot"
   ]
  },
  {
   "cell_type": "markdown",
   "id": "7d8ce746",
   "metadata": {},
   "source": [
    "First we will load the data clean"
   ]
  },
  {
   "cell_type": "code",
   "execution_count": null,
   "id": "7f2de6f8",
   "metadata": {},
   "outputs": [],
   "source": [
    "df = pd.read_csv(\"molecules.csv\")"
   ]
  },
  {
   "cell_type": "markdown",
   "id": "b312946d",
   "metadata": {},
   "source": [
    "One function call will plot the chemical space diagram and annotate it with the molecules pictures closest to the centroid specified. The diagram is produced using the Fruchterman-Reingold force-directed algorithm. Each node represents a molecule and nodes are connected if their tanimoto similarity is >= the connection threshold. Those with more connections will tend to stay in the centre of the diagram whilst those less connected move to the edges. The graph can be used to calculate average numbers of connections and other metrics."
   ]
  },
  {
   "cell_type": "code",
   "execution_count": null,
   "id": "e71b2b08",
   "metadata": {},
   "outputs": [],
   "source": [
    "csm.plot_annotated_chemical_space(df, \n",
    "                                  prop_key=\"n_heavy_atoms\", \n",
    "                                  smiles_key=\"smiles\",\n",
    "                                  label_key=\"names\",\n",
    "                                  centroid=(0.7, 0.4), \n",
    "                                  closest_n=4,\n",
    "                                  connection_threshold=0.7\n",
    "                                 )"
   ]
  },
  {
   "cell_type": "markdown",
   "id": "d01777dc",
   "metadata": {},
   "source": [
    "## Removing duplicates\n",
    "In this section we give an example of removing duplicate entries from our data. We compare all string identifiers and can chose which to use to remove ducplicates. "
   ]
  },
  {
   "cell_type": "markdown",
   "id": "9489190b",
   "metadata": {},
   "source": [
    "First lets start with a clean load our data"
   ]
  },
  {
   "cell_type": "code",
   "execution_count": null,
   "id": "ec4ebbb2",
   "metadata": {},
   "outputs": [],
   "source": [
    "df = pd.read_csv(\"molecules.csv\")"
   ]
  },
  {
   "cell_type": "code",
   "execution_count": null,
   "id": "585cdc1f",
   "metadata": {
    "scrolled": true
   },
   "outputs": [],
   "source": [
    "dup_indexes = cfp.utilities.utility_functions.check_for_duplicates(data=df,  \n",
    "                                                              compare_which=\"inchikey\")\n",
    "log.info(\"Duplicate index list: {}\".format(dup_indexes))"
   ]
  },
  {
   "cell_type": "code",
   "execution_count": null,
   "id": "81141045",
   "metadata": {},
   "outputs": [],
   "source": [
    "df.drop(index=dup_indexes, inplace=True)"
   ]
  },
  {
   "cell_type": "code",
   "execution_count": null,
   "id": "c14ba17b",
   "metadata": {},
   "outputs": [],
   "source": [
    "df"
   ]
  },
  {
   "cell_type": "code",
   "execution_count": null,
   "id": "0cec7e76",
   "metadata": {},
   "outputs": [],
   "source": [
    "df.to_csv(\"unique_molecules.csv\", index=False)"
   ]
  }
 ],
 "metadata": {
  "kernelspec": {
   "display_name": "ccsfp",
   "language": "python",
   "name": "ccsfp"
  },
  "language_info": {
   "codemirror_mode": {
    "name": "ipython",
    "version": 3
   },
   "file_extension": ".py",
   "mimetype": "text/x-python",
   "name": "python",
   "nbconvert_exporter": "python",
   "pygments_lexer": "ipython3",
   "version": "3.8.13"
  }
 },
 "nbformat": 4,
 "nbformat_minor": 5
}
